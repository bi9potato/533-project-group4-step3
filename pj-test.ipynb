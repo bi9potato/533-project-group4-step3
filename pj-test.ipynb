{
 "cells": [
  {
   "cell_type": "code",
   "execution_count": 1,
   "metadata": {},
   "outputs": [
    {
     "name": "stdout",
     "output_type": "stream",
     "text": [
      "\t\t\t    menu\n",
      "\t\t\t 1. login \n",
      "                    \t 2. signup  \n",
      "                    \t 3. exit\n",
      "the account j1 has existed, registration fails\n",
      "\t\t\t    menu\n",
      "\t\t\t 1. login \n",
      "                    \t 2. signup  \n",
      "                    \t 3. exit\n",
      "Login success!\n",
      "\t\t\t    Welcome job seeker!\n",
      "\t\t\t 1. Search for companies and jobs\n",
      "\t\t\t 2. Apply \n",
      "\t\t\t 3. Check status (Accepted/ Rejected/ Put into waitlist)\n",
      "\n",
      "name of company: \n",
      "Google\n",
      "Amazon\n",
      "\n",
      "\n",
      "job name\tremaining\t type\t\t date\n",
      "gjob1 \t\t 3 \t\t type 1 \t 2022-10-10\n",
      "gjob2 \t\t 2 \t\t type 2 \t 2022-10-11\n",
      "gjob3 \t\t 0 \t\t type 3 \t 2022-10-12\n",
      "gjob4 \t\t 5 \t\t type 1 \t 2022-10-12\n",
      "\n",
      "\n",
      "job name\tremaining\t type\t\t date\n",
      "gjob1 \t\t 3 \t\t type 1 \t 2022-10-10\n",
      "The job was not found\n",
      "exit search!\n",
      "Unprocessed\n",
      "logout!\n",
      "\t\t\t    menu\n",
      "\t\t\t 1. login \n",
      "                    \t 2. signup  \n",
      "                    \t 3. exit\n",
      "exit system!\n"
     ]
    }
   ],
   "source": [
    "from RecruitmentSystem.sub_system.menu import menu as m\n",
    "\n",
    "menu = m()\n",
    "menu.start()\n"
   ]
  }
 ],
 "metadata": {
  "kernelspec": {
   "display_name": "Python 3 (ipykernel)",
   "language": "python",
   "name": "python3"
  },
  "language_info": {
   "codemirror_mode": {
    "name": "ipython",
    "version": 3
   },
   "file_extension": ".py",
   "mimetype": "text/x-python",
   "name": "python",
   "nbconvert_exporter": "python",
   "pygments_lexer": "ipython3",
   "version": "3.9.12"
  },
  "vscode": {
   "interpreter": {
    "hash": "9d50d3a74565e79c0ca7228c88e72be098c8ceb6c02f40dad4b8ac2d352f39de"
   }
  }
 },
 "nbformat": 4,
 "nbformat_minor": 4
}
