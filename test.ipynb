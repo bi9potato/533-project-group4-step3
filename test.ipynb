{
 "cells": [
  {
   "cell_type": "code",
   "execution_count": 3,
   "metadata": {},
   "outputs": [
    {
     "name": "stderr",
     "output_type": "stream",
     "text": [
      "test_modify_job_name (__main__.TestAdmin) ... ok\n",
      "test_scan_job (__main__.TestAdmin) ... ok\n",
      "\n",
      "----------------------------------------------------------------------\n",
      "Ran 2 tests in 0.002s\n",
      "\n",
      "OK\n"
     ]
    },
    {
     "name": "stdout",
     "output_type": "stream",
     "text": [
      "Modified successfully!\n",
      "job ajob3 already exists, modification is prohibited.\n"
     ]
    },
    {
     "data": {
      "text/plain": [
       "<unittest.main.TestProgram at 0x142534de790>"
      ]
     },
     "execution_count": 3,
     "metadata": {},
     "output_type": "execute_result"
    }
   ],
   "source": [
    "import unittest\n",
    "\n",
    "from RecruitmentSystem.sub_character.admin import Admin\n",
    "from RecruitmentSystem.sub_system.company import company\n",
    "\n",
    "class TestAdmin(unittest.TestCase):\n",
    "    \n",
    "    def setUp(self):\n",
    "        \n",
    "        # init company\n",
    "        self.c1 = company(cname = 'Google',\n",
    "                     jobs = {'gjob1': [3, 'type 1', '2022-10-10'],\n",
    "                             'gjob2': [2, 'type 2', '2022-10-11'],\n",
    "                             'gjob3': [1, 'type 3', '2022-10-12'],\n",
    "                             'gjob4': [5, 'type 1', '2022-10-12']})\n",
    "        self.c2 = company(cname='Amazon',\n",
    "                     jobs={'ajob1': [3, 'type 1', '2022-10-10'],\n",
    "                           'ajob2': [2, 'type 2', '2022-10-11'],\n",
    "                           'ajob3': [1, 'type 3', '2022-10-12'],\n",
    "                           'ajob4': [5, 'type 1', '2022-10-12']})\n",
    "        \n",
    "        # init Admin\n",
    "        self.a1 = Admin('a1', 1, self.c1)\n",
    "        self.a2 = Admin('a2', 2, self.c2)\n",
    "        \n",
    "        \n",
    "    def test_scan_job(self):\n",
    "        \n",
    "        self.assertEqual(self.a1.job_exist('gjob1'), True)\n",
    "        self.assertEqual(self.a1.job_exist('g'), False)\n",
    "        self.assertEqual(self.a2.job_exist('ajob2'), True)\n",
    "        self.assertEqual(self.a2.job_exist('ajob8'), False)\n",
    "    \n",
    "    def test_modify_job_name(self):\n",
    "        \n",
    "        self.a1.modify_job_name('gjob1', 'gjob11')\n",
    "        self.assertEqual(self.a1.job_exist('gjob11'), True)\n",
    "        self.assertEqual(self.a1.job_exist('gjob1'), False)\n",
    "        \n",
    "        self.a2.modify_job_name('ajob2', 'ajob3')\n",
    "        self.assertEqual(self.a2.job_exist('ajob2'), True)\n",
    "        self.assertEqual(self.a2.job_exist('ajob3'), True)\n",
    "        \n",
    "unittest.main(argv=[''], verbosity=2, exit=False)"
   ]
  },
  {
   "cell_type": "code",
   "execution_count": 6,
   "metadata": {},
   "outputs": [
    {
     "name": "stderr",
     "output_type": "stream",
     "text": [
      "test_apply (__main__.TestJobseeker) ... ok\n",
      "\n",
      "----------------------------------------------------------------------\n",
      "Ran 1 test in 0.001s\n",
      "\n",
      "OK\n"
     ]
    },
    {
     "name": "stdout",
     "output_type": "stream",
     "text": [
      "no enough job gjob3\n",
      "there doesn't exist job gjob1\n"
     ]
    },
    {
     "data": {
      "text/plain": [
       "<unittest.main.TestProgram at 0x19108233f10>"
      ]
     },
     "execution_count": 6,
     "metadata": {},
     "output_type": "execute_result"
    }
   ],
   "source": [
    "import unittest\n",
    "\n",
    "from RecruitmentSystem.sub_character.jobseeker import JobSeeker\n",
    "from RecruitmentSystem.sub_system.company import company\n",
    "\n",
    "class TestJobseeker(unittest.TestCase):\n",
    "    \n",
    "    def setUp(self):\n",
    "        \n",
    "        # init company\n",
    "        self.c1 = company(cname = 'Google',\n",
    "                     jobs = {'gjob1': [3, 'type 1', '2022-10-10'],\n",
    "                             'gjob2': [2, 'type 2', '2022-10-11'],\n",
    "                             'gjob3': [1, 'type 3', '2022-10-12'],\n",
    "                             'gjob4': [5, 'type 1', '2022-10-12']})\n",
    "        self.c2 = company(cname='Amazon',\n",
    "                     jobs={'ajob1': [3, 'type 1', '2022-10-10'],\n",
    "                           'ajob2': [2, 'type 2', '2022-10-11'],\n",
    "                           'ajob3': [1, 'type 3', '2022-10-12'],\n",
    "                           'ajob4': [5, 'type 1', '2022-10-12']})\n",
    "        \n",
    "        # init JobSeeker\n",
    "        self.j1 = JobSeeker('j1', 1, 1, 'sing')\n",
    "        self.j2 = JobSeeker('j2', 2, 0, 'dance')\n",
    "        self.j3 = JobSeeker('j3', 3, 3, 'rap')\n",
    "        self.j4 = JobSeeker('j4', 4, 4, 'basketball')\n",
    "    \n",
    "    def test_apply(self):\n",
    "        \n",
    "        self.j1.apply(self.c1, 'gjob1')\n",
    "        self.j2.apply(self.c1, 'gjob3')\n",
    "        self.j3.apply(self.c1, 'gjob3')\n",
    "        self.j2.apply(self.c2, 'gjob1')\n",
    "        self.assertEqual(self.j1 in self.c1.application_list, True)\n",
    "        self.assertEqual(self.j2 in self.c1.application_list, True)\n",
    "        self.assertEqual(self.j3 in self.c1.application_list, False)\n",
    "        self.assertEqual(self.j4 in self.c2.application_list, False)\n",
    "    \n",
    "    \n",
    "unittest.main(argv=[''], verbosity=2, exit=False)"
   ]
  }
 ],
 "metadata": {
  "kernelspec": {
   "display_name": "Python 3.9.12 ('base')",
   "language": "python",
   "name": "python3"
  },
  "language_info": {
   "codemirror_mode": {
    "name": "ipython",
    "version": 3
   },
   "file_extension": ".py",
   "mimetype": "text/x-python",
   "name": "python",
   "nbconvert_exporter": "python",
   "pygments_lexer": "ipython3",
   "version": "3.9.12"
  },
  "orig_nbformat": 4,
  "vscode": {
   "interpreter": {
    "hash": "9d50d3a74565e79c0ca7228c88e72be098c8ceb6c02f40dad4b8ac2d352f39de"
   }
  }
 },
 "nbformat": 4,
 "nbformat_minor": 2
}
